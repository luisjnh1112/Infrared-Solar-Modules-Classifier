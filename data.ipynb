{
 "cells": [
  {
   "cell_type": "code",
   "execution_count": 1,
   "metadata": {},
   "outputs": [],
   "source": [
    "import os \n",
    "import pandas as pd\n",
    "import matplotlib.pyplot as plt\n",
    "import numpy as np\n",
    "import tensorflow as tf\n",
    "from tensorflow.keras.applications import VGG16\n",
    "from tensorflow.keras.preprocessing import image\n",
    "from tensorflow.keras.applications.imagenet_utils import preprocess_input"
   ]
  },
  {
   "cell_type": "code",
   "execution_count": 11,
   "metadata": {},
   "outputs": [],
   "source": [
    "DATA_PATH = r'c:\\Users\\Luis\\Documents\\GitHub\\Infrared-Solar-Modules-Classifier\\Data/2020-02-14_InfraredSolarModules'\n",
    "\n",
    "METADATA_PATH = os.path.join(DATA_PATH, 'module_metadata.json')"
   ]
  },
  {
   "cell_type": "code",
   "execution_count": 12,
   "metadata": {},
   "outputs": [],
   "source": []
  },
  {
   "cell_type": "code",
   "execution_count": 13,
   "metadata": {},
   "outputs": [],
   "source": [
    "def J2Anottation(DATA_PATH, METADATA_PATH):\n",
    "    \n",
    "    df = pd.read_json(METADATA_PATH, orient='index').sort_index()\n",
    "    # df[\"image_filepath\"] = df.anomaly_class.apply(lambda x: os.path.join(DATA_PATH, convert_to_binary(x)))\n",
    "    df['image_filepath'] = df.image_filepath.apply(lambda x: os.path.join(DATA_PATH, x))\n",
    "    df[\"anomaly_class\"] = df.anomaly_class.apply(convert_to_binary).sort_index()\n",
    "    return df"
   ]
  },
  {
   "cell_type": "code",
   "execution_count": 14,
   "metadata": {},
   "outputs": [],
   "source": [
    "def ExtFwVGG16(image_path):\n",
    "    \n",
    "    # Cargar el modelo preentrenado VGG16\n",
    "    vgg16 = VGG16(weights='imagenet')\n",
    "\n",
    "    # Cargar y preprocesar la imagen de entrada\n",
    "    img = image.load_img(image_path, target_size=(224, 224))\n",
    "\n",
    "    x = image.img_to_array(img)\n",
    "    x = np.expand_dims(x, axis=0)\n",
    "    x = preprocess_input(x)\n",
    "\n",
    "    # # Obtener las características de la imagen\n",
    "    features = vgg16.predict(x)\n",
    "    \n",
    "    return features"
   ]
  },
  {
   "cell_type": "code",
   "execution_count": 15,
   "metadata": {},
   "outputs": [],
   "source": [
    "def dataframe(df):\n",
    "    \n",
    "    sample = df.groupby(\"anomaly_class\").sample(n=10).sort_index()\n",
    "    filas = df.index.tolist()\n",
    "\n",
    "    for i in range(1000):\n",
    "        \n",
    "        colum_name = f\"Columna_{i}\"\n",
    "        sample[colum_name] = \"\"\n",
    "        \n",
    "    for n in range(len(filas)):\n",
    "        \n",
    "        Features = ExtFwVGG16(df[\"image_filepath\"][filas[n]])\n",
    "        sample.iloc[n,2::]\n",
    "    \n",
    "    return sample"
   ]
  }
 ],
 "metadata": {
  "kernelspec": {
   "display_name": "Python 3",
   "language": "python",
   "name": "python3"
  },
  "language_info": {
   "codemirror_mode": {
    "name": "ipython",
    "version": 3
   },
   "file_extension": ".py",
   "mimetype": "text/x-python",
   "name": "python",
   "nbconvert_exporter": "python",
   "pygments_lexer": "ipython3",
   "version": "3.11.4"
  },
  "orig_nbformat": 4
 },
 "nbformat": 4,
 "nbformat_minor": 2
}
